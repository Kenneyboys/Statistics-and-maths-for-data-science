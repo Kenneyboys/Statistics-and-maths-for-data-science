{
 "cells": [
  {
   "cell_type": "raw",
   "id": "ff5b0993-0e44-40d3-bfc6-976334ca2cef",
   "metadata": {},
   "source": [
    "Question 1:\n",
    "\n",
    "Suppose you have a box of 12 balls. five of them are blue and seven are red. You randomly select one ball and hide it in your hand.\n",
    "Then, you draw a second ball without looking at the first one. What is the probability that both balls are blue? \n"
   ]
  },
  {
   "cell_type": "code",
   "execution_count": 1,
   "id": "6aecadaa-6c46-402a-9cc6-e4c4af884adb",
   "metadata": {},
   "outputs": [
    {
     "name": "stdout",
     "output_type": "stream",
     "text": [
      "Probability of both balls being blue: 0.15151515151515152\n"
     ]
    }
   ],
   "source": [
    "# To find the probability that both balls drawn are blue, we can use the concept of conditional probability.\n",
    "\n",
    "# Define the number of blue and red balls\n",
    "blue_balls = 5                                                                                                   ## ChatGpt ##\n",
    "total_balls = 12\n",
    "\n",
    "# Probability of drawing a blue ball on the first draw\n",
    "prob_first_blue = blue_balls / total_balls\n",
    "\n",
    "# Probability of drawing a blue ball on the second draw given that the first ball was blue\n",
    "prob_second_blue_given_first_blue = (blue_balls - 1) / (total_balls - 1)\n",
    "\n",
    "# Probability of both balls being blue\n",
    "prob_both_blue = prob_first_blue * prob_second_blue_given_first_blue\n",
    "\n",
    "print(\"Probability of both balls being blue:\", prob_both_blue)"
   ]
  },
  {
   "cell_type": "code",
   "execution_count": 2,
   "id": "c944b2c7-2d5f-42bf-b2d6-d8ea6d399a90",
   "metadata": {},
   "outputs": [
    {
     "name": "stdout",
     "output_type": "stream",
     "text": [
      "Probability that both balls are blue: 0.15151515151515152\n"
     ]
    }
   ],
   "source": [
    "# Probability of selecting a blue ball on the first draw                                             \n",
    "p_blue_1 = 5 / 12\n",
    "\n",
    "# Probability of selecting a blue ball on the second draw given that the first ball was blue\n",
    "p_blue_2_given_blue_1 = 4 / 11\n",
    "\n",
    "# Probability that both balls are blue\n",
    "p_both_blue = p_blue_1 * p_blue_2_given_blue_1\n",
    "\n",
    "# Print the result\n",
    "print(\"Probability that both balls are blue:\", p_both_blue)"
   ]
  },
  {
   "cell_type": "raw",
   "id": "dbf0f009-a44e-4312-b923-1114622995aa",
   "metadata": {},
   "source": [
    "Question 2:\n",
    "\n",
    "A software company has a bug in their code with a 3% probability of occurring. If they test their code 6 times,\n",
    "determine the probability distribution of the number of bugs that they find.\n"
   ]
  },
  {
   "cell_type": "code",
   "execution_count": 3,
   "id": "6058fc8e-a386-4537-b254-23cc8eb5678c",
   "metadata": {},
   "outputs": [
    {
     "name": "stdout",
     "output_type": "stream",
     "text": [
      "Number of bugs found: 0 - Probability: 0.8329720049289996\n",
      "Number of bugs found: 1 - Probability: 0.15457212462599992\n",
      "Number of bugs found: 2 - Probability: 0.011951452935000006\n",
      "Number of bugs found: 3 - Probability: 0.0004928434199999999\n",
      "Number of bugs found: 4 - Probability: 1.1431934999999995e-05\n",
      "Number of bugs found: 5 - Probability: 1.4142599999999988e-07\n",
      "Number of bugs found: 6 - Probability: 7.289999999999999e-10\n"
     ]
    }
   ],
   "source": [
    "from scipy.stats import binom\n",
    "\n",
    "# Probability of finding a bug\n",
    "p = 0.03                                                                                             ## ChatGpt ##\n",
    "\n",
    "# Number of trials (testing the code)\n",
    "n = 6\n",
    "\n",
    "# Possible number of bugs found (0 to 6)\n",
    "bugs_found = range(7)\n",
    "\n",
    "# Probability distribution of the number of bugs found\n",
    "prob_distribution = [binom.pmf(k, n, p) for k in bugs_found]\n",
    "\n",
    "# Print the probability distribution\n",
    "for k, prob in zip(bugs_found, prob_distribution):\n",
    "    print(\"Number of bugs found:\", k, \"- Probability:\", prob)"
   ]
  },
  {
   "cell_type": "code",
   "execution_count": 4,
   "id": "2e749d1a-a7f3-440c-8d60-ec0a9435debb",
   "metadata": {},
   "outputs": [
    {
     "name": "stdout",
     "output_type": "stream",
     "text": [
      "Number of bugs found: Probability\n",
      "---------------------------------\n",
      "0: 0.8330\n",
      "1: 0.1546\n",
      "2: 0.0120\n",
      "3: 0.0005\n",
      "4: 0.0000\n",
      "5: 0.0000\n",
      "6: 0.0000\n"
     ]
    }
   ],
   "source": [
    "import numpy as np\n",
    "from scipy.special import comb\n",
    "\n",
    "# Input parameters\n",
    "n_tests = 6\n",
    "p_bug = 0.03\n",
    "\n",
    "# Calculate the probability of finding k bugs in n_tests\n",
    "p_k = np.array([comb(n_tests, k) * (p_bug**k) * ((1-p_bug)**(n_tests-k)) for k in range(n_tests+1)])\n",
    "\n",
    "# Print the probability distribution\n",
    "print(\"Number of bugs found: Probability\")\n",
    "print(\"---------------------------------\")\n",
    "for i in range(n_tests+1):\n",
    "    print(f\"{i}: {p_k[i]:.4f}\")"
   ]
  },
  {
   "cell_type": "raw",
   "id": "c5e1a3e3-30e1-4f1b-91ec-326e4c67fa89",
   "metadata": {},
   "source": [
    "Question 3: Twenty observations on etch uniformity on silicon wafers are taken during a qualification experiment for a plasma etcher. The data are as follows:\n",
    " 5.34, 6.65, 4.76, 5.98             7.25, 6.00, 7.55, 5.54, 5.62, 6.21  5.97, 7.35,             5.44, 4.39, 4.98, 5.25,             6.35, 4.61, 6.00, 5.32 \n",
    "a) Construct a 95 percent confidence interval estimate of σ2. \n",
    "b) Test the hypothesis that σ2 = 1.0. Use α = 0.05. What are your conclusions?\n"
   ]
  },
  {
   "cell_type": "code",
   "execution_count": 5,
   "id": "5eeae1c4-d921-4fdb-b62b-89be6f5f8c10",
   "metadata": {},
   "outputs": [
    {
     "name": "stdout",
     "output_type": "stream",
     "text": [
      "95% Confidence Interval for σ^2: [0.4571523978563405, 1.6862395113030544]\n"
     ]
    }
   ],
   "source": [
    "import numpy as np\n",
    "from scipy.stats import chi2\n",
    "\n",
    "# Sample data\n",
    "data = np.array([5.34, 6.65, 4.76, 5.98, 7.25, 6.00, 7.55, 5.54, 5.62, 6.21,\n",
    "                 5.97, 7.35, 5.44, 4.39, 4.98, 5.25, 6.35, 4.61, 6.00, 5.32])\n",
    "                                                                                                         ## ChatGpt ##\n",
    "# Sample size\n",
    "n = len(data)\n",
    "\n",
    "# Sample variance\n",
    "s_squared = np.var(data, ddof=1)\n",
    "\n",
    "# Degrees of freedom\n",
    "df = n - 1\n",
    "\n",
    "# Confidence level\n",
    "alpha = 0.05\n",
    "\n",
    "# Critical values of chi-square distribution\n",
    "chi2_lower = chi2.ppf(alpha / 2, df)\n",
    "chi2_upper = chi2.ppf(1 - alpha / 2, df)\n",
    "\n",
    "# Confidence interval for sigma^2\n",
    "conf_interval = [(df * s_squared) / chi2_upper, (df * s_squared) / chi2_lower]\n",
    "\n",
    "print(\"95% Confidence Interval for σ^2:\", conf_interval)"
   ]
  },
  {
   "cell_type": "code",
   "execution_count": 6,
   "id": "21ff95b1-fb96-4931-8f0e-1a1891e8cab3",
   "metadata": {},
   "outputs": [
    {
     "name": "stdout",
     "output_type": "stream",
     "text": [
      "Fail to reject the null hypothesis. There is not sufficient evidence to conclude that σ^2 is not equal to 1.0.\n"
     ]
    }
   ],
   "source": [
    "# Population variance under the null hypothesis                                                       ## ChatGpt ##\n",
    "sigma_0_squared = 1.0                                                                \n",
    "\n",
    "# Test statistic\n",
    "chi2_statistic = (df * s_squared) / sigma_0_squared\n",
    "\n",
    "# Critical values for a two-tailed test\n",
    "chi2_critical_left = chi2.ppf(alpha / 2, df)\n",
    "chi2_critical_right = chi2.ppf(1 - alpha / 2, df)\n",
    "\n",
    "# Decision\n",
    "if chi2_statistic < chi2_critical_left or chi2_statistic > chi2_critical_right:\n",
    "    print(\"Reject the null hypothesis. There is sufficient evidence to conclude that σ^2 is not equal to 1.0.\")\n",
    "else:\n",
    "    print(\"Fail to reject the null hypothesis. There is not sufficient evidence to conclude that σ^2 is not equal to 1.0.\")"
   ]
  },
  {
   "cell_type": "code",
   "execution_count": 7,
   "id": "49997d06-8c63-43c8-98f9-ec49441c97a1",
   "metadata": {},
   "outputs": [
    {
     "name": "stdout",
     "output_type": "stream",
     "text": [
      "Confidence interval for σ²: (1.6862, 0.4572)\n",
      "Test statistic: 15.0185\n",
      "Critical values: [8.9065, 32.8523]\n",
      "Fail to reject the null hypothesis.\n"
     ]
    }
   ],
   "source": [
    "import numpy as np\n",
    "from scipy.stats import chi2\n",
    "\n",
    "# a) Construct a 95% confidence interval estimate of σ²\n",
    "data = np.array([5.34, 6.65, 4.76, 5.98, 7.25, 6.00, 7.55, 5.54, 5.62, 6.21, 5.97, 7.35, 5.44, 4.39, 4.98, 5.25, 6.35, 4.61, 6.00, 5.32])\n",
    "n = len(data)\n",
    "sample_variance = np.var(data, ddof=1)\n",
    "\n",
    "alpha = 0.05\n",
    "df = n - 1\n",
    "chi2_lower = chi2.ppf(alpha/2, df)\n",
    "chi2_upper = chi2.ppf(1 - alpha/2, df)\n",
    "\n",
    "confidence_interval_lower = (n - 1) * sample_variance / chi2_lower\n",
    "confidence_interval_upper = (n - 1) * sample_variance / chi2_upper\n",
    "\n",
    "print(f\"Confidence interval for σ²: ({confidence_interval_lower:.4f}, {confidence_interval_upper:.4f})\")\n",
    "\n",
    "# b) Test the hypothesis that σ² = 1.0\n",
    "null_hypothesis = 1.0\n",
    "test_statistic = (n - 1) * sample_variance / null_hypothesis\n",
    "\n",
    "alpha = 0.05\n",
    "critical_value_left = chi2.ppf(alpha/2, df)\n",
    "critical_value_right = chi2.ppf(1 - alpha/2, df)\n",
    "\n",
    "print(f\"Test statistic: {test_statistic:.4f}\")\n",
    "print(f\"Critical values: [{critical_value_left:.4f}, {critical_value_right:.4f}]\")\n",
    "\n",
    "if test_statistic < critical_value_left or test_statistic > critical_value_right:\n",
    "    print(\"Reject the null hypothesis.\")\n",
    "else:\n",
    "    print(\"Fail to reject the null hypothesis.\")"
   ]
  },
  {
   "cell_type": "raw",
   "id": "35c014b2-7256-43e1-9b16-10f6ea0d7989",
   "metadata": {},
   "source": [
    "Question 4: Factory produces defects following a Poisson process with an average of 3.5 defects per hour.\n",
    "What is the probability that the factory produces at most 3 defects in 2 hours?"
   ]
  },
  {
   "cell_type": "code",
   "execution_count": 8,
   "id": "513f5ae7-9a3c-4651-9f99-1a73659f8f86",
   "metadata": {},
   "outputs": [
    {
     "name": "stdout",
     "output_type": "stream",
     "text": [
      "Probability of at most 3 defects in 2 hours: 0.0818\n"
     ]
    }
   ],
   "source": [
    "import math\n",
    "                                                                                                              ## ChatGpt ##\n",
    "# Average rate of defects per hour\n",
    "lambda_value = 3.5\n",
    "\n",
    "# Time period (hours)\n",
    "time_period = 2\n",
    "\n",
    "# Number of defects at most\n",
    "k_max = 3\n",
    "\n",
    "# Probability of at most k_max defects in the given time period\n",
    "def poisson_pmf(k, lamb):\n",
    "    return math.exp(-lamb) * (lamb ** k) / math.factorial(k)\n",
    "\n",
    "# Calculate the probability\n",
    "probability = sum(poisson_pmf(k, lambda_value * time_period) for k in range(k_max + 1))\n",
    "\n",
    "print(\"Probability of at most {} defects in {} hours: {:.4f}\".format(k_max, time_period, probability))"
   ]
  },
  {
   "cell_type": "code",
   "execution_count": 9,
   "id": "4ba17180-e4dc-4864-b005-bbb9a52150f0",
   "metadata": {},
   "outputs": [
    {
     "name": "stdout",
     "output_type": "stream",
     "text": [
      "P(X<=0) = 0.0009118819655545162\n",
      "P(X<=1) = 0.00729505572443613\n",
      "P(X<=2) = 0.029636163880521777\n",
      "P(X<=3) = 0.08176541624472163\n"
     ]
    }
   ],
   "source": [
    "import math\n",
    "\n",
    "# Define the rate parameter and time interval\n",
    "lambda_ = 3.5\n",
    "t = 2\n",
    "\n",
    "# Calculate the cumulative distribution function for k=0, 1, 2, and 3\n",
    "p_x_leq_0 = math.exp(-lambda_ * t)\n",
    "p_x_leq_1 = p_x_leq_0 + lambda_ * t * math.exp(-lambda_ * t)\n",
    "p_x_leq_2 = p_x_leq_1 + (lambda_ * t)**2 / 2 * math.exp(-lambda_ * t)\n",
    "p_x_leq_3 = p_x_leq_2 + (lambda_ * t)**3 / 6 * math.exp(-lambda_ * t)\n",
    "\n",
    "# Print the results\n",
    "print(\"P(X<=0) =\", p_x_leq_0)\n",
    "print(\"P(X<=1) =\", p_x_leq_1)\n",
    "print(\"P(X<=2) =\", p_x_leq_2)\n",
    "print(\"P(X<=3) =\", p_x_leq_3)"
   ]
  },
  {
   "cell_type": "raw",
   "id": "3f9aa00d-9292-4b6d-bbc6-cb0eb14ddd7f",
   "metadata": {},
   "source": [
    "Question 5: The mean score of a group of 100 students in a math test is 75, with a standard deviation of 8.5.\n",
    "If a sample of 30 students is randomly selected, what is the mean and standard deviation of the sample?"
   ]
  },
  {
   "cell_type": "code",
   "execution_count": 10,
   "id": "002dff89-48dc-42bb-a6a0-79c9b32ee743",
   "metadata": {},
   "outputs": [
    {
     "name": "stdout",
     "output_type": "stream",
     "text": [
      "Mean of the sample: 75\n",
      "Standard deviation of the sample: 1.5518805795979707\n"
     ]
    }
   ],
   "source": [
    "import math\n",
    "\n",
    "# Given data                                                                              ## ChatGpt ##\n",
    "population_mean = 75\n",
    "population_std_dev = 8.5\n",
    "sample_size = 30\n",
    "\n",
    "# Calculate the mean of the sample (same as population mean)\n",
    "sample_mean = population_mean\n",
    "\n",
    "# Calculate the standard deviation of the sample\n",
    "sample_std_dev = population_std_dev / math.sqrt(sample_size)\n",
    "\n",
    "print(\"Mean of the sample:\", sample_mean)\n",
    "print(\"Standard deviation of the sample:\", sample_std_dev)"
   ]
  },
  {
   "cell_type": "code",
   "execution_count": 11,
   "id": "7209718d-a82b-41e2-8d83-e64d943473e6",
   "metadata": {},
   "outputs": [
    {
     "name": "stdout",
     "output_type": "stream",
     "text": [
      "Sample Standard Deviation: 1.55\n"
     ]
    }
   ],
   "source": [
    "import math\n",
    "\n",
    "population_mean = 75\n",
    "population_stddev = 8.5\n",
    "sample_size = 30\n",
    "\n",
    "sample_stddev = population_stddev / math.sqrt(sample_size)\n",
    "\n",
    "print(\"Sample Standard Deviation: {:.2f}\".format(sample_stddev))"
   ]
  },
  {
   "cell_type": "code",
   "execution_count": null,
   "id": "d25a3a0e-7db7-4bcf-a196-4913568c3624",
   "metadata": {},
   "outputs": [],
   "source": []
  }
 ],
 "metadata": {
  "kernelspec": {
   "display_name": "Python 3 (ipykernel)",
   "language": "python",
   "name": "python3"
  },
  "language_info": {
   "codemirror_mode": {
    "name": "ipython",
    "version": 3
   },
   "file_extension": ".py",
   "mimetype": "text/x-python",
   "name": "python",
   "nbconvert_exporter": "python",
   "pygments_lexer": "ipython3",
   "version": "3.11.7"
  }
 },
 "nbformat": 4,
 "nbformat_minor": 5
}
